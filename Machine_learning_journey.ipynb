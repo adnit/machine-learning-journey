{
  "nbformat": 4,
  "nbformat_minor": 0,
  "metadata": {
    "colab": {
      "provenance": [],
      "toc_visible": true,
      "authorship_tag": "ABX9TyMPJR5zG9btffXmGzDR+pMX"
    },
    "kernelspec": {
      "name": "python3",
      "display_name": "Python 3"
    },
    "language_info": {
      "name": "python"
    }
  },
  "cells": [
    {
      "cell_type": "markdown",
      "source": [
        "\n",
        "###### 27 November 2023\n",
        "\n",
        "### TODO\n",
        "#### Math:\n",
        "- [ ] Multivariable calculus\n",
        "- [ ] Differential equations\n",
        "- [ ] Linear algebra\n",
        "- [ ] Statistics probabality\n",
        "\n",
        "#### Python libraries:\n",
        "- [ ] Numpy\n",
        "- [ ] Pandas\n",
        "- [ ] Matplotlib\n",
        "\n",
        "---\n",
        "\n",
        "# Machine Learning Specialization\n",
        "[Coursera](https://google.com/)\n",
        "\n",
        "## Course 1(Supervised Machine Learning: Regression and Classification)\n",
        "\n",
        "Machine learning algorithms\n",
        "- Supervised learning\n",
        "- Unsupervised learning\n",
        "\n",
        "### Supervised learning\n",
        "x -> y\n",
        "You give the algorithm \"right answers\", algorithm learns how to find y with just x.\n",
        "Learns from being given right answers\n",
        "\n",
        "- **Regression**: we try predict a number from infinitely many possible outputs (housing price)  \n",
        "- **Classification**: predict categories (predict if its a cat or dog), small numbeer of outputs  \n",
        "\n",
        "### Unsupervised learning\n",
        "Find something interesting in unlabeled data, what patterns or structures might be  \n",
        "Google News algorithms group news articles on their own, without telling what groups there are.\n",
        "Data only comes as inputs x, but no output labels y. Algorithm has to find struckture in the data.  \n",
        "- **Clustering**: Groups similar data points together  \n",
        "- **Anomaly detection**: Find unusal data points  \n",
        "- **Dimensionality reduction**: Compress data using fewer numbers  \n",
        "\n",
        "#### Regression Model\n",
        "##### Terminology\n",
        "Housing prices example\n",
        "- **Training set**: Data used to train the model  \n",
        "- **\"input\" variable/feature**: x (size of house)  \n",
        "- **\"output\" variable/target**: y (price of house)  \n",
        "- **number of training examples**: m (number of  recorded sales)\n",
        "- **single training example**: (x, y) ex: (2104, 400)  \n",
        "- **(x^(i), y^(i))**: i-th training example ex: 1st, 2nd\n",
        "\n"
      ],
      "metadata": {
        "id": "FNOfXC3v15b2"
      }
    },
    {
      "cell_type": "code",
      "execution_count": null,
      "metadata": {
        "id": "IgwaRlBv13IG"
      },
      "outputs": [],
      "source": []
    }
  ]
}